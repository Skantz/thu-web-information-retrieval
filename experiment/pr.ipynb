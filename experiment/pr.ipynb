{
 "cells": [
  {
   "cell_type": "code",
   "execution_count": null,
   "metadata": {},
   "outputs": [],
   "source": [
    "import numpy as np\n",
    "import matplotlib.pyplot as plt\n",
    "\n",
    "from math import log2"
   ]
  },
  {
   "cell_type": "code",
   "execution_count": null,
   "metadata": {},
   "outputs": [],
   "source": [
    "!python pr.py Exp1/linkgraph.txt 5"
   ]
  },
  {
   "cell_type": "code",
   "execution_count": null,
   "metadata": {},
   "outputs": [],
   "source": [
    "vec = np.load(\"prvec.npy\")\n",
    "print(vec[0])"
   ]
  },
  {
   "cell_type": "code",
   "execution_count": null,
   "metadata": {},
   "outputs": [],
   "source": [
    "LIMIT = 1000000000\n",
    "\n",
    "vec_sample = vec.reshape(-1)\n",
    "vec_sample = np.sort(vec_sample)[::-1][:LIMIT]\n",
    "\n",
    "plt.plot(range(len(vec_sample)), [log2(e) for e in vec_sample])\n",
    "plt.xlabel(\"Link # (ranked)\")\n",
    "plt.ylabel(\"Log2 score\")\n",
    "plt.title(\"Linkgraph log score distribution\")\n",
    "plt.show()"
   ]
  },
  {
   "cell_type": "code",
   "execution_count": null,
   "metadata": {},
   "outputs": [],
   "source": [
    "!python pr.py Exp1/linkgraph.txt 15\n"
   ]
  },
  {
   "cell_type": "code",
   "execution_count": null,
   "metadata": {},
   "outputs": [],
   "source": [
    "vec = np.load(\"prvec.npy\")\n",
    "\n",
    "print(vec[0])\n",
    "\n",
    "LIMIT = 1000000000\n",
    "\n",
    "vec_sample_2 = vec.reshape(-1)\n",
    "vec_sample_2 = np.sort(vec_sample)[::-1][:LIMIT]\n",
    "\n",
    "plt.plot(range(len(vec_sample_2)), [log2(e) for e in vec_sample_2])\n",
    "plt.show()\n"
   ]
  },
  {
   "cell_type": "code",
   "execution_count": null,
   "metadata": {},
   "outputs": [],
   "source": [
    "print(vec_sample[:10])\n",
    "print(vec_sample_2[:10])"
   ]
  }
 ],
 "metadata": {
  "language_info": {
   "codemirror_mode": {
    "name": "ipython",
    "version": 3
   },
   "file_extension": ".py",
   "mimetype": "text/x-python",
   "name": "python",
   "nbconvert_exporter": "python",
   "pygments_lexer": "ipython3",
   "version": 3
  },
  "orig_nbformat": 2
 },
 "nbformat": 4,
 "nbformat_minor": 2
}